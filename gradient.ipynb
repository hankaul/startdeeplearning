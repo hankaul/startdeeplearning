{
 "cells": [
  {
   "cell_type": "markdown",
   "id": "306c0dec-b429-45c1-91c7-85369e59ead4",
   "metadata": {},
   "source": [
    "### 그래디언트 구현"
   ]
  },
  {
   "cell_type": "code",
   "execution_count": 18,
   "id": "f092bdee-e521-42bb-86c2-a27146c64d23",
   "metadata": {},
   "outputs": [],
   "source": [
    "import numpy as np\n",
    "import matplotlib.pylab as plt"
   ]
  },
  {
   "cell_type": "code",
   "execution_count": 54,
   "id": "694f5392-7a4a-4535-83e9-f79366dd891e",
   "metadata": {},
   "outputs": [],
   "source": [
    "#그래디언트 함수 정의\n",
    "#그래디언트 함수 정의\n",
    "def numerical_gradient(f,x):\n",
    "    h =1e-4\n",
    "    grad = np.zeros_like(x)\n",
    "    \n",
    "    for idx in range(x.size):\n",
    "        tmp_val=x[idx]\n",
    "        x[idx]=tmp_val + h\n",
    "        fxh1 =f(x)\n",
    "        \n",
    "        x[idx]=tmp_val - h\n",
    "        fxh2 =f(x)\n",
    "        \n",
    "        grad[idx] = (fxh1 - fxh2) /(2*h)\n",
    "        x[idx]=tmp_val\n",
    "    return grad\n",
    "\n",
    "# 변수가 행렬일 경우의 그래디언트 함수 정의\n",
    "def numerical_gradient_batch(f,X):\n",
    "    if X.ndim ==1:\n",
    "        return numerical_gradient(f,X)\n",
    "    else:\n",
    "        grad = np.zeros_like(x)\n",
    "        \n",
    "        for idx, x in enumerate(X):\n",
    "            grad[idx] = numerical_gradient(f,x)\n",
    "        return grad"
   ]
  },
  {
   "cell_type": "code",
   "execution_count": 55,
   "id": "26f8ae5e-6a28-423d-ab36-8ee7a29f0dee",
   "metadata": {},
   "outputs": [],
   "source": [
    "# f : 함수, init_x : 출발지, lr : learning rate, step_num : 경사법에 따른 반복횟수\n",
    "def gradient_descent(f, init_x, lr = 0.01, step_num = 100): #lr과 step_num은 디폴트값 설정\n",
    "    x = init_x  # x : 위치\n",
    "    x_history = [] #발자국 리스트\n",
    "    \n",
    "    for i in range(step_num):\n",
    "        x_history.append(x.copy()) #발자국을 리스트에 삽입\n",
    "        \n",
    "        grad = numerical_gradient(f,x) # 출발 위치에서 그래디언트를 구한다\n",
    "        x = x - lr*grad #경사하강법\n",
    "    \n",
    "    return x, np.array(x_history) # 최종 좌표 x와 발자국 리스트를 넘파이로 반환\n"
   ]
  },
  {
   "cell_type": "code",
   "execution_count": 58,
   "id": "711d2a45-2104-47b7-9a9f-85a3ea120c31",
   "metadata": {},
   "outputs": [],
   "source": [
    "# f 함수 정의\n",
    "def function_2(x): # f=(x,y)\n",
    "    return x[0]**2 + x[1]**2\n",
    "\n",
    "# 출발점 정의\n",
    "init_x = np.array([-3.0,4.0])\n",
    "\n",
    "lr = 0.4\n",
    "step_num = 20\n",
    "\n",
    "x, x_history = gradient_descent(function_2, init_x, lr=lr, step_num=step_num)\n"
   ]
  },
  {
   "cell_type": "code",
   "execution_count": 59,
   "id": "0cae4368-4359-45a5-b42e-0bd532b100f7",
   "metadata": {},
   "outputs": [
    {
     "data": {
      "image/png": "[encoded data removed]",
      "text/plain": [
       "<Figure size 432x288 with 1 Axes>"
      ]
     },
     "metadata": {
      "needs_background": "light"
     },
     "output_type": "display_data"
    }
   ],
   "source": [
    "plt.plot( [-5, 5], [0,0], '--b')\n",
    "plt.plot( [0,0], [-5, 5], '--b')\n",
    "plt.plot(x_history[:,0], x_history[:,1], 'o')\n",
    "\n",
    "plt.xlim(-3.5, 3.5)\n",
    "plt.ylim(-4.5, 4.5)\n",
    "plt.xlabel(\"X0\")\n",
    "plt.ylabel(\"X1\")\n",
    "plt.show()\n"
   ]
  },
  {
   "cell_type": "code",
   "execution_count": 60,
   "id": "8ff16a62-0402-4de1-9111-db429f2bbb40",
   "metadata": {},
   "outputs": [],
   "source": [
    "import sys, os\n",
    "sys.path.append(\"./code/\")  # 부모 디렉터리의 파일을 가져올 수 있도록 설정\n",
    "import numpy as np\n",
    "from common.functions import softmax, cross_entropy_error\n",
    "from common.gradient import numerical_gradient\n",
    "\n",
    "class simpleNet:\n",
    "    def __init__(self):\n",
    "        self.W=np.random.randn(2,3)\n",
    "        \n",
    "    def predict(self,x):\n",
    "        return np.dot(x, self.W)\n",
    "    \n",
    "    def loss(self, x, t):\n",
    "        z= self.predict(x)\n",
    "        y=softmax(z)\n",
    "        loss = cross_entropy_error(y,t)\n",
    "        \n",
    "        return loss\n",
    "    "
   ]
  },
  {
   "cell_type": "code",
   "execution_count": null,
   "id": "528f210a-fc31-4c7a-870e-ac40224ad33f",
   "metadata": {},
   "outputs": [],
   "source": [
    "np.random.randn(2,3)\n",
    "array([[ 0.58465262, -0.26882999,  0.08349798],\n",
    "       [ 1.67318621, -0.73467986, -0.14829997]])\n",
    "net = simpleNet()\n",
    "print(net.W)\n",
    "[[ 0.71338084 -0.94925867  0.32417468]\n",
    " [-0.58673328 -0.36919303  1.15482563]]\n",
    "x=np.array([0.6,0.9])\n",
    "p=net.predict(x)\n",
    "print(p)\n",
    "[-0.10003145 -0.90182893  1.23384788]\n",
    "np.argmax(p)\n",
    "t=np.array([0,0,1])\n",
    "net.loss(x,t)\n",
    "0.3232550250958044\n",
    "def f(W)ㅠ:\n",
    "    return net.loss(x,t)\n",
    "\n",
    "dW=numerical_gradient(f,net.W)\n",
    "print(dW)"
   ]
  },
  {
   "cell_type": "code",
   "execution_count": 67,
   "id": "9cc03041-7fe6-4227-9be1-f412e21b0782",
   "metadata": {},
   "outputs": [],
   "source": [
    "import sys, os\n",
    "sys.path.append(\"./code/\")  # 부모 디렉터리의 파일을 가져올 수 있도록 설정\n",
    "from common.functions import *\n",
    "from common.gradient import numerical_gradient\n",
    "import numpy as np\n",
    "\n",
    "\n",
    "class TwoLayerNet:\n",
    "\n",
    "    def __init__(self, input_size, hidden_size, output_size, weight_init_std=0.01): #가중치 표준편차 0.01 default값\n",
    "        # 가중치 초기화\n",
    "        self.params = {}\n",
    "        self.params['W1'] = weight_init_std * np.random.randn(input_size, hidden_size)\n",
    "        self.params['b1'] = np.zeros(hidden_size)\n",
    "        self.params['W2'] = weight_init_std * np.random.randn(hidden_size, output_size)\n",
    "        self.params['b2'] = np.zeros(output_size)\n",
    "\n",
    "    def predict(self, x):\n",
    "        W1, W2 = self.params['W1'], self.params['W2']\n",
    "        b1, b2 = self.params['b1'], self.params['b2']\n",
    "    \n",
    "        a1 = np.dot(x, W1) + b1\n",
    "        z1 = sigmoid(a1)\n",
    "        a2 = np.dot(z1, W2) + b2\n",
    "        y = softmax(a2)\n",
    "        \n",
    "        return y\n",
    "        \n",
    "    # x : 입력 데이터, t : 정답 레이블\n",
    "    def loss(self, x, t):\n",
    "        y = self.predict(x)\n",
    "        \n",
    "        return cross_entropy_error(y, t)\n",
    "    \n",
    "    def accuracy(self, x, t): # 정답률 함수\n",
    "        y = self.predict(x)\n",
    "        y = np.argmax(y, axis=1)\n",
    "        t = np.argmax(t, axis=1)\n",
    "        \n",
    "        accuracy = np.sum(y == t) / float(x.shape[0])\n",
    "        return accuracy\n",
    "        \n",
    "    # x : 입력 데이터, t : 정답 레이블\n",
    "    def numerical_gradient(self, x, t):\n",
    "        loss_W = lambda W: self.loss(x, t)\n",
    "        \n",
    "        grads = {}\n",
    "        grads['W1'] = numerical_gradient(loss_W, self.params['W1'])\n",
    "        grads['b1'] = numerical_gradient(loss_W, self.params['b1'])\n",
    "        grads['W2'] = numerical_gradient(loss_W, self.params['W2'])\n",
    "        grads['b2'] = numerical_gradient(loss_W, self.params['b2'])\n",
    "        \n",
    "        return grads\n",
    "    #역전파를 구하는 코드    \n",
    "    def gradient(self, x, t):\n",
    "        W1, W2 = self.params['W1'], self.params['W2']\n",
    "        b1, b2 = self.params['b1'], self.params['b2']\n",
    "        grads = {}\n",
    "        \n",
    "        batch_num = x.shape[0]\n",
    "        \n",
    "        # forward\n",
    "        a1 = np.dot(x, W1) + b1\n",
    "        z1 = sigmoid(a1)\n",
    "        a2 = np.dot(z1, W2) + b2\n",
    "        y = softmax(a2)\n",
    "        \n",
    "        # backward\n",
    "        dy = (y - t) / batch_num\n",
    "        grads['W2'] = np.dot(z1.T, dy)\n",
    "        grads['b2'] = np.sum(dy, axis=0)\n",
    "        \n",
    "        da1 = np.dot(dy, W2.T)\n",
    "        dz1 = sigmoid_grad(a1) * da1\n",
    "        grads['W1'] = np.dot(x.T, dz1)\n",
    "        grads['b1'] = np.sum(dz1, axis=0)\n",
    "\n",
    "        return grads"
   ]
  },
  {
   "cell_type": "code",
   "execution_count": 68,
   "id": "667628b5-17aa-4455-a9b3-f1758819a8a2",
   "metadata": {},
   "outputs": [
    {
     "name": "stdout",
     "output_type": "stream",
     "text": [
      "train acc, test acc | 0.0993, 0.1032\n",
      "train acc, test acc | 0.7865, 0.7926\n",
      "train acc, test acc | 0.87455, 0.876\n",
      "train acc, test acc | 0.8974666666666666, 0.8997\n",
      "train acc, test acc | 0.9073833333333333, 0.9103\n",
      "train acc, test acc | 0.9146166666666666, 0.9167\n",
      "train acc, test acc | 0.9196833333333333, 0.9204\n",
      "train acc, test acc | 0.92395, 0.9229\n",
      "train acc, test acc | 0.9286666666666666, 0.9271\n",
      "train acc, test acc | 0.9310166666666667, 0.9304\n",
      "train acc, test acc | 0.9343333333333333, 0.9326\n",
      "train acc, test acc | 0.9357166666666666, 0.9347\n",
      "train acc, test acc | 0.9388333333333333, 0.9368\n",
      "train acc, test acc | 0.9400166666666666, 0.9389\n",
      "train acc, test acc | 0.9421833333333334, 0.942\n",
      "train acc, test acc | 0.9445833333333333, 0.9424\n",
      "train acc, test acc | 0.9462, 0.9431\n"
     ]
    },
    {
     "data": {
      "image/png": "[encoded data removed]",
      "text/plain": [
       "<Figure size 432x288 with 1 Axes>"
      ]
     },
     "metadata": {
      "needs_background": "light"
     },
     "output_type": "display_data"
    }
   ],
   "source": [
    "import matplotlib.pyplot as plt\n",
    "from dataset.mnist import load_mnist\n",
    "\n",
    "# 데이터 읽기\n",
    "(x_train, t_train), (x_test, t_test) = load_mnist(normalize=True, one_hot_label=True)\n",
    "\n",
    "network = TwoLayerNet(input_size=784, hidden_size=50, output_size=10)\n",
    "\n",
    "# 하이퍼파라미터\n",
    "iters_num = 10000  # 반복 횟수를 적절히 설정한다.\n",
    "train_size = x_train.shape[0]\n",
    "batch_size = 100   # 미니배치 크기\n",
    "learning_rate = 0.1\n",
    "\n",
    "train_loss_list = []\n",
    "train_acc_list = []\n",
    "test_acc_list = []\n",
    "\n",
    "# 1에폭당 반복 수\n",
    "iter_per_epoch = max(train_size / batch_size, 1)\n",
    "\n",
    "for i in range(iters_num):\n",
    "    # 미니배치 획득\n",
    "    batch_mask = np.random.choice(train_size, batch_size)\n",
    "    x_batch = x_train[batch_mask]\n",
    "    t_batch = t_train[batch_mask]\n",
    "    # 기울기 계산\n",
    "    #grad = network.numerical_gradient(x_batch, t_batch)\n",
    "    grad = network.gradient(x_batch, t_batch)\n",
    "    \n",
    "    # 매개변수 갱신\n",
    "    for key in ('W1', 'b1', 'W2', 'b2'):\n",
    "        network.params[key] -= learning_rate * grad[key]\n",
    "    \n",
    "    # 학습 경과 기록\n",
    "    loss = network.loss(x_batch, t_batch)\n",
    "    train_loss_list.append(loss)\n",
    "    \n",
    "    # 1에폭당 정확도 계산\n",
    "    if i % iter_per_epoch == 0:\n",
    "        train_acc = network.accuracy(x_train, t_train)\n",
    "        test_acc = network.accuracy(x_test, t_test)\n",
    "        train_acc_list.append(train_acc)\n",
    "        test_acc_list.append(test_acc)\n",
    "        print(\"train acc, test acc | \" + str(train_acc) + \", \" + str(test_acc))\n",
    "    \n",
    "    \n",
    "\n",
    "# 그래프 그리기\n",
    "markers = {'train': 'o', 'test': 's'}\n",
    "x = np.arange(len(train_acc_list))\n",
    "plt.plot(x, train_acc_list, label='train acc')\n",
    "plt.plot(x, test_acc_list, label='test acc', linestyle='--')\n",
    "plt.xlabel(\"epochs\")\n",
    "plt.ylabel(\"accuracy\")\n",
    "plt.ylim(0, 1.0)\n",
    "plt.legend(loc='lower right')\n",
    "plt.show()\n"
   ]
  },
  {
   "cell_type": "code",
   "execution_count": 69,
   "id": "762f63ad-d4d8-4115-9802-c6c42c3d7be3",
   "metadata": {},
   "outputs": [
    {
     "data": {
      "image/png": "[encoded data removed]",
      "text/plain": [
       "<Figure size 432x288 with 1 Axes>"
      ]
     },
     "metadata": {
      "needs_background": "light"
     },
     "output_type": "display_data"
    }
   ],
   "source": [
    "markers = {'train': 'o', 'test': 's'}\n",
    "x = np.arange(len(train_loss_list))\n",
    "plt.plot(x, train_loss_list, label='train loss')\n",
    "plt.xlabel(\"internation\")\n",
    "plt.ylabel(\"loss\")\n",
    "plt.ylim(0, 9.0)\n",
    "plt.legend(loc='lower right')\n",
    "plt.show()"
   ]
  },
  {
   "cell_type": "code",
   "execution_count": 74,
   "id": "80e0e88a-9b45-40bf-890a-edc8d019d75c",
   "metadata": {},
   "outputs": [
    {
     "data": {
      "text/plain": [
       "-0.9999999999"
      ]
     },
     "execution_count": 74,
     "metadata": {},
     "output_type": "execute_result"
    }
   ],
   "source": [
    "1e-10 -1"
   ]
  },
  {
   "cell_type": "code",
   "execution_count": null,
   "id": "03f908cf-6cb0-46b9-8404-2fff8ae01ef8",
   "metadata": {},
   "outputs": [],
   "source": []
  }
 ],
 "metadata": {
  "kernelspec": {
   "display_name": "Python 3 (ipykernel)",
   "language": "python",
   "name": "python3"
  },
  "language_info": {
   "codemirror_mode": {
    "name": "ipython",
    "version": 3
   },
   "file_extension": ".py",
   "mimetype": "text/x-python",
   "name": "python",
   "nbconvert_exporter": "python",
   "pygments_lexer": "ipython3",
   "version": "3.9.7"
  },
  "widgets": {
   "application/vnd.jupyter.widget-state+json": {
    "state": {},
    "version_major": 2,
    "version_minor": 0
   }
  }
 },
 "nbformat": 4,
 "nbformat_minor": 5
}
