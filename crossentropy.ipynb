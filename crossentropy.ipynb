{
 "cells": [
  {
   "cell_type": "code",
   "execution_count": null,
   "id": "42802559-1346-4ae8-8604-8d339dfd6bd2",
   "metadata": {},
   "outputs": [],
   "source": [
    "#one-hot-incoding \n",
    "y=[0.1, 0.05, 0.6, 0.0, 0.05, 0.1, 0.0, 0.1, 0.0, 0.0]\n",
    "t=[0,0,1,0,0,0,0,0,0,0]"
   ]
  },
  {
   "cell_type": "code",
   "execution_count": null,
   "id": "d4901603-1012-4568-b154-8fbca4ae406a",
   "metadata": {},
   "outputs": [],
   "source": [
    "def cross_entropy_error(y, t):\n",
    "    delta = 1e-7 #e = 10 \n",
    "    return -np.sum(t*np.log(y + delta)) # np.log()함수에 0이 입력되는 오류를 방지\n",
    "\n",
    "cross_entropy_error(np.array(y), np.array(t))\n",
    "# -> 0.510825457099338\n"
   ]
  },
  {
   "cell_type": "markdown",
   "id": "502cc4fe-d3d2-4b3c-abc0-f720144976d4",
   "metadata": {},
   "source": [
    "### 미니 배치학습"
   ]
  },
  {
   "cell_type": "code",
   "execution_count": null,
   "id": "e8a9c847-bb91-4c87-add8-4c461c96c03a",
   "metadata": {},
   "outputs": [],
   "source": [
    "import sys, os\n",
    "sys.path.append(\"./code/\")\n",
    "from dataset.mnist import load_mnist\n",
    "\n",
    "(x_train, t_train),(x_test, t_test) = load_mnist(normalize=True, one_hot_label=True)\n",
    "\n",
    "t_train[0] # -> array([0., 0., 0., 0., 0., 1., 0., 0., 0., 0.]) one_hot_label 적용"
   ]
  },
  {
   "cell_type": "code",
   "execution_count": null,
   "id": "ffeba556-d114-42f1-86cb-e889c024f29c",
   "metadata": {},
   "outputs": [],
   "source": [
    "train_size=x_train.shape[0]\n",
    "batch_size = 100\n",
    "batch_mask = np.random.choice(train_size, batch_size)#60,000이라는 숫자에서 100개의 숫자를 무작위로 추출\n",
    "x_batch=x_train[batch_mask]#추출한 숫자를 인덱스로 사용하여 데이터를 추출\n",
    "t_batch=t_train[batch_mask]"
   ]
  },
  {
   "cell_type": "code",
   "execution_count": null,
   "id": "cfa166a1-9ad5-4400-a66c-a6c31f3f2c92",
   "metadata": {},
   "outputs": [],
   "source": [
    "def cross_entropy_error_1(y, t):\n",
    "    if y.ndim == 1: #1차원 벡터를 행렬로 변환\n",
    "        t= t.reshape(1, t.size)\n",
    "        y= y.reshape(1, t.size)\n",
    "    batch_size = y.shape[0]\n",
    "    delta = 1e-7\n",
    "    return -np.sum(t*np.log(y + delta)) / batch_size\n",
    "\n",
    "cross_entropy_error_1(np.array(y), np.array(t))\n",
    "# -> 0.510825457099338"
   ]
  }
 ],
 "metadata": {
  "kernelspec": {
   "display_name": "Python 3 (ipykernel)",
   "language": "python",
   "name": "python3"
  },
  "language_info": {
   "codemirror_mode": {
    "name": "ipython",
    "version": 3
   },
   "file_extension": ".py",
   "mimetype": "text/x-python",
   "name": "python",
   "nbconvert_exporter": "python",
   "pygments_lexer": "ipython3",
   "version": "3.9.7"
  },
  "widgets": {
   "application/vnd.jupyter.widget-state+json": {
    "state": {},
    "version_major": 2,
    "version_minor": 0
   }
  }
 },
 "nbformat": 4,
 "nbformat_minor": 5
}
