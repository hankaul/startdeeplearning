{
 "cells": [
  {
   "cell_type": "code",
   "execution_count": 1,
   "id": "a5aee09f",
   "metadata": {},
   "outputs": [],
   "source": [
    "import numpy as np"
   ]
  },
  {
   "cell_type": "markdown",
   "id": "5d8a1bef",
   "metadata": {
    "tags": []
   },
   "source": [
    "### 계단 함수 구현 하기\n",
    "\n",
    "- 입력이 0을 넘기면 1을 출력\n",
    "- 이외에는 0을 출력"
   ]
  },
  {
   "cell_type": "code",
   "execution_count": 3,
   "id": "6cbadc67",
   "metadata": {},
   "outputs": [],
   "source": [
    "def step_function(x):\n",
    "    if x > 0:\n",
    "        return 1\n",
    "    else :\n",
    "        return 0 "
   ]
  },
  {
   "cell_type": "markdown",
   "id": "2a095b93-c60a-4bfe-95ba-ff63c39b7bc7",
   "metadata": {},
   "source": [
    "- 위와 같은 함수로 구현한 결과의 문제점은 인수 x를 실수만 받아들인다는 것\n",
    "- 실수 인수를 넣을순 있지만 넘파이 배열을 넣을 수는 없다\n",
    "- EX) step_function(np.array([1.0,2.0])) -> x"
   ]
  },
  {
   "cell_type": "code",
   "execution_count": 4,
   "id": "0d11540d",
   "metadata": {},
   "outputs": [],
   "source": [
    "import numpy as np\n",
    "x_1=np.array([-1.0,1.0,-2.0,0.5])\n",
    "y_1 = x_1 > 0\n",
    "print(y_1)\n",
    "print(type(y_1))\n",
    "print(y_1.astype(np.int))\n",
    "type(y_1.astype(np.int)[0])"
   ]
  },
  {
   "cell_type": "markdown",
   "id": "c4e42b9d-5f9d-44c0-af4d-0bec86480e7b",
   "metadata": {},
   "source": [
    "1. numpy 배열에 부등호 연산을 수행하면 각각 부등호 연산을 수행한 bool배열이 생성된다.\n",
    "2. 그 값을 별도로 저장한다.\n",
    "3. bool type을 int형으로 변경해준다.\n",
    "    - 넘파이 자료형의 데이터를 변환할때는 astype()매서드를 이용한다.\n",
    "    - 원하는 자료형을 인수로 지정하면 된다 EX)np.int,np.st...\n",
    "   "
   ]
  },
  {
   "cell_type": "code",
   "execution_count": 29,
   "id": "0735e3d7-8bdc-4f39-8909-027b11e48e6d",
   "metadata": {},
   "outputs": [],
   "source": [
    "x=[-1,1,2,-5]\n",
    "y=[]\n",
    "for i in x:\n",
    "    if i>0:\n",
    "        y.append(1)\n",
    "    elif i<0:\n",
    "        y.append(0)"
   ]
  },
  {
   "cell_type": "code",
   "execution_count": 4,
   "id": "f7b66dda",
   "metadata": {},
   "outputs": [
    {
     "name": "stdout",
     "output_type": "stream",
     "text": [
      "[False  True False  True]\n",
      "<class 'numpy.ndarray'>\n",
      "[0 1 0 1]\n"
     ]
    },
    {
     "name": "stderr",
     "output_type": "stream",
     "text": [
      "C:\\Users\\asd\\AppData\\Local\\Temp/ipykernel_2184/125794448.py:6: DeprecationWarning: `np.int` is a deprecated alias for the builtin `int`. To silence this warning, use `int` by itself. Doing this will not modify any behavior and is safe. When replacing `np.int`, you may wish to use e.g. `np.int64` or `np.int32` to specify the precision. If you wish to review your current use, check the release note link for additional information.\n",
      "Deprecated in NumPy 1.20; for more details and guidance: https://numpy.org/devdocs/release/1.20.0-notes.html#deprecations\n",
      "  print(y_1.astype(np.int))\n"
     ]
    }
   ],
   "source": [
    "import numpy as np\n",
    "x_1 = np.array([-1.0, 1.0, -2.0, 0.5])\n",
    "y_1 = x_1 > 0\n",
    "print(y_1)\n",
    "print(type(y_1))\n",
    "print(y_1.astype(np.int))"
   ]
  },
  {
   "cell_type": "code",
   "execution_count": 30,
   "id": "d1cb1107",
   "metadata": {},
   "outputs": [],
   "source": [
    "def step_function_1(x) : \n",
    "    y = x>0\n",
    "    return y.astype(np.int)"
   ]
  },
  {
   "cell_type": "code",
   "execution_count": 31,
   "id": "3467a4b3-d08c-4618-ad17-0ec483cd9d86",
   "metadata": {},
   "outputs": [
    {
     "name": "stdout",
     "output_type": "stream",
     "text": [
      "[0 1 0]\n"
     ]
    },
    {
     "name": "stderr",
     "output_type": "stream",
     "text": [
      "C:\\Users\\asd\\AppData\\Local\\Temp/ipykernel_2184/1356982136.py:3: DeprecationWarning: `np.int` is a deprecated alias for the builtin `int`. To silence this warning, use `int` by itself. Doing this will not modify any behavior and is safe. When replacing `np.int`, you may wish to use e.g. `np.int64` or `np.int32` to specify the precision. If you wish to review your current use, check the release note link for additional information.\n",
      "Deprecated in NumPy 1.20; for more details and guidance: https://numpy.org/devdocs/release/1.20.0-notes.html#deprecations\n",
      "  return y.astype(np.int)\n"
     ]
    }
   ],
   "source": [
    "x_2 = np.array([-1.0, 1.0, -2.0])\n",
    "y_2=step_function_1(x_2)\n",
    "print(y_2)"
   ]
  },
  {
   "cell_type": "code",
   "execution_count": 62,
   "id": "1646ad1c-54fd-45ff-bcdc-5bdfe38bb3c7",
   "metadata": {},
   "outputs": [
    {
     "name": "stderr",
     "output_type": "stream",
     "text": [
      "C:\\Users\\asd\\AppData\\Local\\Temp/ipykernel_2184/1356982136.py:3: DeprecationWarning: `np.int` is a deprecated alias for the builtin `int`. To silence this warning, use `int` by itself. Doing this will not modify any behavior and is safe. When replacing `np.int`, you may wish to use e.g. `np.int64` or `np.int32` to specify the precision. If you wish to review your current use, check the release note link for additional information.\n",
      "Deprecated in NumPy 1.20; for more details and guidance: https://numpy.org/devdocs/release/1.20.0-notes.html#deprecations\n",
      "  return y.astype(np.int)\n"
     ]
    },
    {
     "data": {
      "image/png": "[encoded data removed]",
      "text/plain": [
       "<Figure size 432x288 with 1 Axes>"
      ]
     },
     "metadata": {
      "needs_background": "light"
     },
     "output_type": "display_data"
    }
   ],
   "source": [
    "import matplotlib.pylab as plt\n",
    "x_3 = np.arange(-5.0,5.0,0.1) #-5.0에서 5.0 전까지 0.1 간격의 넘파이 배열을 생성\n",
    "y_3 = step_function_1(x_3)\n",
    "plt.plot(x_3,y_3)\n",
    "plt.ylim(-0.1,1.1)\n",
    "plt.show()"
   ]
  },
  {
   "cell_type": "code",
   "execution_count": 34,
   "id": "389611c6-80d8-4de0-9a6d-2fab17cc6ce5",
   "metadata": {},
   "outputs": [
    {
     "name": "stdout",
     "output_type": "stream",
     "text": [
      "[-5.00000000e+00 -4.90000000e+00 -4.80000000e+00 -4.70000000e+00\n",
      " -4.60000000e+00 -4.50000000e+00 -4.40000000e+00 -4.30000000e+00\n",
      " -4.20000000e+00 -4.10000000e+00 -4.00000000e+00 -3.90000000e+00\n",
      " -3.80000000e+00 -3.70000000e+00 -3.60000000e+00 -3.50000000e+00\n",
      " -3.40000000e+00 -3.30000000e+00 -3.20000000e+00 -3.10000000e+00\n",
      " -3.00000000e+00 -2.90000000e+00 -2.80000000e+00 -2.70000000e+00\n",
      " -2.60000000e+00 -2.50000000e+00 -2.40000000e+00 -2.30000000e+00\n",
      " -2.20000000e+00 -2.10000000e+00 -2.00000000e+00 -1.90000000e+00\n",
      " -1.80000000e+00 -1.70000000e+00 -1.60000000e+00 -1.50000000e+00\n",
      " -1.40000000e+00 -1.30000000e+00 -1.20000000e+00 -1.10000000e+00\n",
      " -1.00000000e+00 -9.00000000e-01 -8.00000000e-01 -7.00000000e-01\n",
      " -6.00000000e-01 -5.00000000e-01 -4.00000000e-01 -3.00000000e-01\n",
      " -2.00000000e-01 -1.00000000e-01 -1.77635684e-14  1.00000000e-01\n",
      "  2.00000000e-01  3.00000000e-01  4.00000000e-01  5.00000000e-01\n",
      "  6.00000000e-01  7.00000000e-01  8.00000000e-01  9.00000000e-01\n",
      "  1.00000000e+00  1.10000000e+00  1.20000000e+00  1.30000000e+00\n",
      "  1.40000000e+00  1.50000000e+00  1.60000000e+00  1.70000000e+00\n",
      "  1.80000000e+00  1.90000000e+00  2.00000000e+00  2.10000000e+00\n",
      "  2.20000000e+00  2.30000000e+00  2.40000000e+00  2.50000000e+00\n",
      "  2.60000000e+00  2.70000000e+00  2.80000000e+00  2.90000000e+00\n",
      "  3.00000000e+00  3.10000000e+00  3.20000000e+00  3.30000000e+00\n",
      "  3.40000000e+00  3.50000000e+00  3.60000000e+00  3.70000000e+00\n",
      "  3.80000000e+00  3.90000000e+00  4.00000000e+00  4.10000000e+00\n",
      "  4.20000000e+00  4.30000000e+00  4.40000000e+00  4.50000000e+00\n",
      "  4.60000000e+00  4.70000000e+00  4.80000000e+00  4.90000000e+00]\n"
     ]
    }
   ],
   "source": [
    "x_4 = np.arange(-5.0,5.0,0.1)\n",
    "print(x_4)"
   ]
  },
  {
   "cell_type": "code",
   "execution_count": 50,
   "id": "71b6ba7d-7cb6-49c5-aaf7-cff737893396",
   "metadata": {},
   "outputs": [
    {
     "name": "stdout",
     "output_type": "stream",
     "text": [
      "0.36787944117144233\n",
      "[ 2.71828183  7.3890561  20.08553692]\n"
     ]
    }
   ],
   "source": [
    "x=np.exp(-1)\n",
    "print(x)\n",
    "a=np.exp(np.array([1,2,3]))\n",
    "print(a)"
   ]
  },
  {
   "cell_type": "code",
   "execution_count": 57,
   "id": "5e9146ac-231f-4c2e-9348-d1d6ceaef92a",
   "metadata": {},
   "outputs": [],
   "source": [
    "def sigmoid(x):\n",
    "     return 1/(1+np.exp(-x))"
   ]
  },
  {
   "cell_type": "code",
   "execution_count": 69,
   "id": "1c6dbab6-23e8-4e82-86ca-587d6e6dbae3",
   "metadata": {},
   "outputs": [
    {
     "name": "stdout",
     "output_type": "stream",
     "text": [
      "[0.73105858 0.18242552 0.95257413]\n"
     ]
    }
   ],
   "source": [
    "x = np.array([1.0,-1.5,3.0])\n",
    "y = sigmoid(x)\n",
    "print(y)"
   ]
  },
  {
   "cell_type": "code",
   "execution_count": 71,
   "id": "625aa848-03dd-44c1-ab14-2eb638b0e8c5",
   "metadata": {},
   "outputs": [
    {
     "data": {
      "image/png": "[encoded data removed]",
      "text/plain": [
       "<Figure size 432x288 with 1 Axes>"
      ]
     },
     "metadata": {
      "needs_background": "light"
     },
     "output_type": "display_data"
    }
   ],
   "source": [
    "x_4=np.arange(-5.0,5.0,0.1)\n",
    "y_4=sigmoid(x_4)\n",
    "plt.plot(x_4,y_4)\n",
    "plt.plot(x_4,y_3,'k--') #계단 함수\n",
    "plt.ylim(-0.1,1.1)\n",
    "plt.show()"
   ]
  },
  {
   "cell_type": "code",
   "execution_count": 73,
   "id": "42467962-6e20-4824-b0e2-6f6f5afb5650",
   "metadata": {},
   "outputs": [],
   "source": [
    "def relu(x):\n",
    "    return np.maximum(0,x)"
   ]
  },
  {
   "cell_type": "code",
   "execution_count": 74,
   "id": "23370682-8725-4b11-90f2-028df450c480",
   "metadata": {},
   "outputs": [
    {
     "data": {
      "image/png": "[encoded data removed]",
      "text/plain": [
       "<Figure size 432x288 with 1 Axes>"
      ]
     },
     "metadata": {
      "needs_background": "light"
     },
     "output_type": "display_data"
    }
   ],
   "source": [
    "y_5 = relu(x_4)\n",
    "plt.plot(x_4,y_5)\n",
    "plt.ylim(-0.1,1.1)\n",
    "plt.show()"
   ]
  },
  {
   "cell_type": "code",
   "execution_count": 1,
   "id": "ab82e3b0-a8be-48bc-becd-e99d975fb6ea",
   "metadata": {},
   "outputs": [],
   "source": [
    "import numpy as np"
   ]
  },
  {
   "cell_type": "code",
   "execution_count": 2,
   "id": "d6a170c6-8720-43eb-b47b-730f9234261c",
   "metadata": {},
   "outputs": [
    {
     "name": "stdout",
     "output_type": "stream",
     "text": [
      "[1 2 3 4]\n"
     ]
    }
   ],
   "source": [
    "A = np.array([1,2,3,4])\n",
    "print(A)"
   ]
  },
  {
   "cell_type": "code",
   "execution_count": 3,
   "id": "497bd082-a589-464e-9223-7d074667fa8b",
   "metadata": {},
   "outputs": [
    {
     "data": {
      "text/plain": [
       "numpy.ndarray"
      ]
     },
     "execution_count": 3,
     "metadata": {},
     "output_type": "execute_result"
    }
   ],
   "source": [
    "type(A)"
   ]
  },
  {
   "cell_type": "code",
   "execution_count": 4,
   "id": "8e4d9c14-d8f1-45f2-9d98-fea50237ba50",
   "metadata": {},
   "outputs": [
    {
     "data": {
      "text/plain": [
       "1"
      ]
     },
     "execution_count": 4,
     "metadata": {},
     "output_type": "execute_result"
    }
   ],
   "source": [
    "np.ndim(A) # 배열 차원수"
   ]
  },
  {
   "cell_type": "code",
   "execution_count": 5,
   "id": "f6f6d209-6f69-4dcc-a808-96edcea89a5b",
   "metadata": {},
   "outputs": [
    {
     "data": {
      "text/plain": [
       "(4,)"
      ]
     },
     "execution_count": 5,
     "metadata": {},
     "output_type": "execute_result"
    }
   ],
   "source": [
    "A.shape #배열의 형상"
   ]
  },
  {
   "cell_type": "code",
   "execution_count": 7,
   "id": "76bb42f3-0859-4ae1-95d3-c586bfb9f908",
   "metadata": {},
   "outputs": [],
   "source": [
    "B = np.array([[[23,23,2"
   ]
  },
  {
   "cell_type": "code",
   "execution_count": 8,
   "id": "80caf7c2-8b71-40ff-8076-5c15b89be7b2",
   "metadata": {},
   "outputs": [
    {
     "name": "stdout",
     "output_type": "stream",
     "text": [
      "[[1.  2.  2.5]\n",
      " [3.  4.  4.5]\n",
      " [5.  6.  7. ]]\n"
     ]
    }
   ],
   "source": [
    "print(B)"
   ]
  },
  {
   "cell_type": "code",
   "execution_count": 9,
   "id": "0d152e84-2b04-4b57-927c-ba2c05c8616d",
   "metadata": {},
   "outputs": [
    {
     "data": {
      "text/plain": [
       "2"
      ]
     },
     "execution_count": 9,
     "metadata": {},
     "output_type": "execute_result"
    }
   ],
   "source": [
    "np.ndim(B)"
   ]
  },
  {
   "cell_type": "code",
   "execution_count": 12,
   "id": "b0111766-ec94-4994-9261-3ae70ead121a",
   "metadata": {},
   "outputs": [
    {
     "data": {
      "text/plain": [
       "(3, 3)"
      ]
     },
     "execution_count": 12,
     "metadata": {},
     "output_type": "execute_result"
    }
   ],
   "source": [
    "np.shape(B)"
   ]
  },
  {
   "cell_type": "code",
   "execution_count": 14,
   "id": "59083e8c-f572-4fb6-b7ec-5c13a8a7cf4a",
   "metadata": {},
   "outputs": [],
   "source": [
    "A = np.array([[1,2],[3,4]])\n",
    "B = np.array([[5,6],[7,8]])"
   ]
  },
  {
   "cell_type": "code",
   "execution_count": null,
   "id": "00389bc4-8e2e-4d60-80ca-a3216ec503d1",
   "metadata": {},
   "outputs": [],
   "source": []
  }
 ],
 "metadata": {
  "kernelspec": {
   "display_name": "Python 3 (ipykernel)",
   "language": "python",
   "name": "python3"
  },
  "language_info": {
   "codemirror_mode": {
    "name": "ipython",
    "version": 3
   },
   "file_extension": ".py",
   "mimetype": "text/x-python",
   "name": "python",
   "nbconvert_exporter": "python",
   "pygments_lexer": "ipython3",
   "version": "3.9.7"
  },
  "widgets": {
   "application/vnd.jupyter.widget-state+json": {
    "state": {},
    "version_major": 2,
    "version_minor": 0
   }
  }
 },
 "nbformat": 4,
 "nbformat_minor": 5
}
