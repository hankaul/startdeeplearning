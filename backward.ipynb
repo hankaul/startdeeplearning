{
 "cells": [
  {
   "cell_type": "code",
   "execution_count": 6,
   "id": "a8a7a4b4-999a-47b5-9039-3fab0c0fa51c",
   "metadata": {},
   "outputs": [],
   "source": [
    "#시그모이드 함수 역전파\n",
    "class Sigmoid:\n",
    "    def __init__(self):\n",
    "        self.out = None\n",
    "    \n",
    "    def forward(self, x):\n",
    "        out = 1/(1+np.exp(-x))\n",
    "        self.out = out\n",
    "        \n",
    "        return out\n",
    "    \n",
    "    def backward(self, dout):\n",
    "        dx = dout * (1.0 - self.out)*self.out\n",
    "        return dx"
   ]
  },
  {
   "cell_type": "code",
   "execution_count": 8,
   "id": "701d7134-19bd-47fc-a638-1108ea348b81",
   "metadata": {},
   "outputs": [],
   "source": [
    "# coding: utf-8\n",
    "import sys, os\n",
    "sys.path.append(\"./code/\")\n",
    "sys.path.append(\"./code/ch05/\")# 부모 디렉터리의 파일을 가져올 수 있도록 설정\n",
    "import numpy as np\n",
    "from dataset.mnist import load_mnist\n",
    "from two_layer_net import TwoLayerNet"
   ]
  },
  {
   "cell_type": "code",
   "execution_count": 9,
   "id": "df3f80fc-785e-4aab-a678-cb0bcff1f6fd",
   "metadata": {
    "collapsed": true,
    "jupyter": {
     "outputs_hidden": true
    },
    "tags": []
   },
   "outputs": [
    {
     "data": {
      "text/plain": [
       "\"class TwoLayerNet:\\n\\n    def __init__(self, input_size, hidden_size, output_size, weight_init_std = 0.01):\\n        # 가중치 초기화\\n        self.params = {}\\n        self.params['W1'] = weight_init_std * np.random.randn(input_size, hidden_size)\\n        self.params['b1'] = np.zeros(hidden_size)\\n        self.params['W2'] = weight_init_std * np.random.randn(hidden_size, output_size) \\n        self.params['b2'] = np.zeros(output_size)\\n\\n        # 계층 생성\\n        self.layers = OrderedDict()\\n        self.layers['Affine1'] = Affine(self.params['W1'], self.params['b1'])\\n        self.layers['Relu1'] = Relu()\\n        self.layers['Affine2'] = Affine(self.params['W2'], self.params['b2'])\\n\\n        self.lastLayer = SoftmaxWithLoss()\\n        \\n    def predict(self, x):\\n        for layer in self.layers.values():\\n            x = layer.forward(x)\\n        \\n        return x\\n        \\n    # x : 입력 데이터, t : 정답 레이블\\n    def loss(self, x, t):\\n        y = self.predict(x)\\n        return self.lastLayer.forward(y, t)\\n    \\n    def accuracy(self, x, t):\\n        y = self.predict(x)\\n        y = np.argmax(y, axis=1)\\n        if t.ndim != 1 : t = np.argmax(t, axis=1)\\n        \\n        accuracy = np.sum(y == t) / float(x.shape[0])\\n        return accuracy\\n        \\n    # x : 입력 데이터, t : 정답 레이블\\n    def numerical_gradient(self, x, t):\\n        loss_W = lambda W: self.loss(x, t)\\n        \\n        grads = {}\\n        grads['W1'] = numerical_gradient(loss_W, self.params['W1'])\\n        grads['b1'] = numerical_gradient(loss_W, self.params['b1'])\\n        grads['W2'] = numerical_gradient(loss_W, self.params['W2'])\\n        grads['b2'] = numerical_gradient(loss_W, self.params['b2'])\\n        \\n        return grads\\n        \\n    def gradient(self, x, t):\\n        # forward\\n        self.loss(x, t)\\n\\n        # backward\\n        dout = 1\\n        dout = self.lastLayer.backward(dout)\\n        \\n        layers = list(self.layers.values())\\n        layers.reverse()\\n        for layer in layers:\\n            dout = layer.backward(dout)\\n\\n        # 결과 저장\\n        grads = {}\\n        grads['W1'], grads['b1'] = self.layers['Affine1'].dW, self.layers['Affine1'].db\\n        grads['W2'], grads['b2'] = self.layers['Affine2'].dW, self.layers['Affine2'].db\\n\\n        return grads\\n\""
      ]
     },
     "execution_count": 9,
     "metadata": {},
     "output_type": "execute_result"
    }
   ],
   "source": [
    "import inspect\n",
    "\n",
    "inspect.getsource(TwoLayerNet)"
   ]
  },
  {
   "cell_type": "code",
   "execution_count": 10,
   "id": "15d7fc54-21e6-419c-a779-a735a9f719e5",
   "metadata": {},
   "outputs": [
    {
     "name": "stdout",
     "output_type": "stream",
     "text": [
      "W1:4.697005475846991e-10\n",
      "b1:2.8969722436385237e-09\n",
      "W2:4.937437229012487e-09\n",
      "b2:1.4052500382361056e-07\n"
     ]
    }
   ],
   "source": [
    "# 데이터 읽기\n",
    "(x_train, t_train), (x_test, t_test) = load_mnist(normalize=True, one_hot_label=True)\n",
    "\n",
    "network = TwoLayerNet(input_size=784, hidden_size=50, output_size=10)\n",
    "\n",
    "x_batch = x_train[:3]\n",
    "t_batch = t_train[:3]\n",
    "\n",
    "grad_numerical = network.numerical_gradient(x_batch, t_batch)\n",
    "grad_backprop = network.gradient(x_batch, t_batch)\n",
    "\n",
    "# 각 가중치의 절대 오차의 평균을 구한다.\n",
    "for key in grad_numerical.keys():\n",
    "    diff = np.average( np.abs(grad_backprop[key] - grad_numerical[key]) )\n",
    "    print(key + \":\" + str(diff))"
   ]
  },
  {
   "cell_type": "code",
   "execution_count": 11,
   "id": "2950fd6d-b1d0-4fe2-ae0a-3d288c6a21c4",
   "metadata": {},
   "outputs": [
    {
     "name": "stdout",
     "output_type": "stream",
     "text": [
      "train_acc:0.12476666666666666 test_acc:0.1218\n",
      "train_acc:0.9007166666666667 test_acc:0.9055\n",
      "train_acc:0.9244666666666667 test_acc:0.9274\n",
      "train_acc:0.9372166666666667 test_acc:0.9376\n",
      "train_acc:0.9449666666666666 test_acc:0.9429\n",
      "train_acc:0.9514833333333333 test_acc:0.949\n",
      "train_acc:0.9568 test_acc:0.9532\n",
      "train_acc:0.9613333333333334 test_acc:0.9557\n",
      "train_acc:0.96405 test_acc:0.9594\n",
      "train_acc:0.9662666666666667 test_acc:0.9614\n",
      "train_acc:0.9698333333333333 test_acc:0.9651\n",
      "train_acc:0.9729166666666667 test_acc:0.9676\n",
      "train_acc:0.9748166666666667 test_acc:0.9668\n",
      "train_acc:0.97665 test_acc:0.9691\n",
      "train_acc:0.9773333333333334 test_acc:0.9696\n",
      "train_acc:0.9777 test_acc:0.9704\n",
      "train_acc:0.9794 test_acc:0.9705\n"
     ]
    }
   ],
   "source": [
    "# 데이터 읽기\n",
    "(x_train, t_train), (x_test, t_test) = load_mnist(normalize=True, one_hot_label=True)\n",
    "\n",
    "network = TwoLayerNet(input_size=784, hidden_size=50, output_size=10)\n",
    "\n",
    "iters_num = 10000\n",
    "train_size = x_train.shape[0]\n",
    "batch_size = 100\n",
    "learning_rate = 0.1\n",
    "\n",
    "train_loss_list = []\n",
    "train_acc_list = []\n",
    "test_acc_list = []\n",
    "\n",
    "iter_per_epoch = max(train_size / batch_size, 1)\n",
    "\n",
    "for i in range(iters_num):\n",
    "    batch_mask = np.random.choice(train_size, batch_size)\n",
    "    x_batch = x_train[batch_mask]\n",
    "    t_batch = t_train[batch_mask]\n",
    "    \n",
    "    # 기울기 계산\n",
    "    #grad = network.numerical_gradient(x_batch, t_batch) # 수치 미분 방식\n",
    "    grad = network.gradient(x_batch, t_batch) # 오차역전파법 방식(훨씬 빠르다)\n",
    "    \n",
    "    # 갱신\n",
    "    for key in ('W1', 'b1', 'W2', 'b2'):\n",
    "        network.params[key] -= learning_rate * grad[key]\n",
    "    \n",
    "    loss = network.loss(x_batch, t_batch)\n",
    "    train_loss_list.append(loss)\n",
    "    \n",
    "    if i % iter_per_epoch == 0:\n",
    "        train_acc = network.accuracy(x_train, t_train)\n",
    "        test_acc = network.accuracy(x_test, t_test)\n",
    "        train_acc_list.append(train_acc)\n",
    "        test_acc_list.append(test_acc)\n",
    "        print(\"train_acc:{}\".format(train_acc), \"test_acc:{}\".format(test_acc))"
   ]
  },
  {
   "cell_type": "code",
   "execution_count": 13,
   "id": "394fd3b4-6807-4602-935d-1d86623afae5",
   "metadata": {},
   "outputs": [
    {
     "data": {
      "text/plain": [
       "60000"
      ]
     },
     "execution_count": 13,
     "metadata": {},
     "output_type": "execute_result"
    }
   ],
   "source": [
    "train_size"
   ]
  },
  {
   "cell_type": "code",
   "execution_count": 23,
   "id": "e20ef1be-ba6c-4908-b070-1b3635c61055",
   "metadata": {},
   "outputs": [],
   "source": [
    "x= np.random.uniform(low=-2,high=2, size= 200)"
   ]
  },
  {
   "cell_type": "code",
   "execution_count": 22,
   "id": "ee3ce015-cf42-4f5f-87aa-c23f0a2c2625",
   "metadata": {},
   "outputs": [
    {
     "data": {
      "text/plain": [
       "1"
      ]
     },
     "execution_count": 22,
     "metadata": {},
     "output_type": "execute_result"
    }
   ],
   "source": [
    "x.ndim"
   ]
  },
  {
   "cell_type": "code",
   "execution_count": 24,
   "id": "54e92b40-f0a2-449c-8e8d-5b449525a6ce",
   "metadata": {},
   "outputs": [
    {
     "name": "stdout",
     "output_type": "stream",
     "text": [
      "[-0.12222428 -1.56433733  0.14983593 -0.18989596  1.17605483  0.34582097\n",
      " -0.26483655 -1.68776426  1.90375569 -1.26140899 -1.8553708   1.76836906\n",
      "  1.26198524  1.14223916  0.43681192  1.67190439  1.49249902  1.35817431\n",
      " -0.11702724  1.79275483  1.45105439 -0.82838752 -0.66643671  1.94499327\n",
      "  0.76527822 -0.79557779 -0.24406536  0.92788936  1.2316272   0.86548559\n",
      " -1.87614079  0.44906026 -1.62270925 -1.26819498 -0.61193361 -0.7236733\n",
      " -1.92462821  0.07751548 -1.93796202  0.53945966 -0.90775971 -0.9823406\n",
      "  1.0489363  -1.82056404 -0.16854811 -0.45575934 -0.61673115  1.89188943\n",
      " -1.69988475  1.4970206  -0.95954801 -0.92459451 -0.55987296 -0.51140427\n",
      "  1.90537823  1.04600362  0.18039632  1.42964599  0.07809139  1.1890061\n",
      " -1.1499849   0.39602523  0.09136903 -0.59298281  1.56089492 -1.94270008\n",
      "  0.78884571 -0.30270859 -0.55813403 -0.61219163 -0.53890174 -1.97806066\n",
      " -0.52988403 -1.04409344  1.89161554  0.94237655 -0.08434745 -0.73508889\n",
      " -1.6848092   0.20502615 -1.78628833  0.21058947 -1.64647181 -1.57230957\n",
      "  1.69797913 -0.04072729 -1.52434355  1.0812502  -1.34590502  1.33331972\n",
      "  1.78191189  1.95938119  1.50092402 -0.64487626 -1.77465273 -1.31852869\n",
      "  1.11962095 -1.88565661 -1.04761295  1.25521923 -0.70070522  0.2637665\n",
      "  1.69534811  0.5021251   0.35474938  1.27221618  1.9961463   1.79015893\n",
      " -1.03622377  0.28722058  1.45558927 -1.59949244  1.07855178  1.65089187\n",
      " -1.19458936  1.18022469 -1.59167331 -0.32603442 -0.51731138 -0.5769015\n",
      "  0.29309141 -1.8719573  -0.44963481  0.55886413  1.67181576 -0.39785983\n",
      " -0.15609757 -0.93878064  0.35947771 -1.1382753   0.56053872  1.05748774\n",
      " -0.4962855  -1.35329647 -1.46513773 -1.75888386 -0.96114237  0.16777172\n",
      " -1.47607941  0.17206708  0.29949758 -1.28528279  0.63529208  1.39630141\n",
      "  0.04759813  0.0728834  -1.32664833 -1.65266418 -1.45643551  0.57480397\n",
      " -0.3077676   1.22690949 -1.89173285  1.89978874 -1.05332289  0.90326228\n",
      "  0.78359486 -0.45556035  1.04210902  0.24042228  1.37363474 -0.86447997\n",
      "  1.68124595  0.78963979  0.57616736 -1.5897925   1.51098348  0.18781929\n",
      "  1.47183489  1.73292404  0.39994443  0.5148801  -1.48226861  0.96071396\n",
      " -1.09832381  0.82983792  0.8394887  -0.22297311 -0.11499985 -0.80694383\n",
      " -0.75971024 -0.30692983  1.74722191  1.4883279   0.91999312  1.99053508\n",
      "  0.90833696 -0.96470638 -1.30596812  0.81831347  0.92705495  1.40173093\n",
      " -1.42177155  1.55633367  0.33309976  1.82540467 -0.97049813 -0.0358091\n",
      " -0.59570655 -0.55788793]\n"
     ]
    }
   ],
   "source": [
    "print(x)"
   ]
  }
 ],
 "metadata": {
  "kernelspec": {
   "display_name": "Python 3 (ipykernel)",
   "language": "python",
   "name": "python3"
  },
  "language_info": {
   "codemirror_mode": {
    "name": "ipython",
    "version": 3
   },
   "file_extension": ".py",
   "mimetype": "text/x-python",
   "name": "python",
   "nbconvert_exporter": "python",
   "pygments_lexer": "ipython3",
   "version": "3.9.7"
  },
  "widgets": {
   "application/vnd.jupyter.widget-state+json": {
    "state": {},
    "version_major": 2,
    "version_minor": 0
   }
  }
 },
 "nbformat": 4,
 "nbformat_minor": 5
}
