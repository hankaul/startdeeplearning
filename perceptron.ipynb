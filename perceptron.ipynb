{
 "cells": [
  {
   "cell_type": "code",
   "execution_count": 14,
   "id": "d0ba7c6a",
   "metadata": {},
   "outputs": [],
   "source": [
    "def fun_AND(x1,x2):\n",
    "    w1, w2, theta = 0.5, 0.5, 0.7\n",
    "    tmp = x1*w1 + x2*w2\n",
    "    if tmp <= theta:\n",
    "        return 0\n",
    "    elif tmp > theta:\n",
    "        return 1"
   ]
  },
  {
   "cell_type": "code",
   "execution_count": 15,
   "id": "5b231377",
   "metadata": {},
   "outputs": [
    {
     "data": {
      "text/plain": [
       "1"
      ]
     },
     "execution_count": 15,
     "metadata": {},
     "output_type": "execute_result"
    }
   ],
   "source": [
    "AND(1,1)"
   ]
  },
  {
   "cell_type": "code",
   "execution_count": 22,
   "id": "60286351",
   "metadata": {},
   "outputs": [],
   "source": [
    "#OR Gate\n",
    "def fun_OR(x1,x2):\n",
    "    w1,w2,threshold = 0.5, 0.5, 0.2\n",
    "    tmp_1 = w1*x1+w2*x2\n",
    "    if tmp_1 <= threshold:\n",
    "        return 0\n",
    "    elif tmp_1 > threshold:\n",
    "        return 1"
   ]
  },
  {
   "cell_type": "code",
   "execution_count": 5,
   "id": "0bcccbcd",
   "metadata": {},
   "outputs": [],
   "source": [
    "import numpy as np\n",
    "\n",
    "def fun1_AND(x1,x2):\n",
    "    x=np.array([x1,x2])\n",
    "    w=np.array([0.5,0.5])\n",
    "    b = -0.7\n",
    "    tmp = np.sum(w*x) +  b\n",
    "    if tmp <= 0:\n",
    "        return 0   \n",
    "    else:\n",
    "        return 1 "
   ]
  },
  {
   "cell_type": "code",
   "execution_count": 6,
   "id": "642feec4",
   "metadata": {},
   "outputs": [
    {
     "name": "stdout",
     "output_type": "stream",
     "text": [
      "(0, 0) + -> 0\n",
      "(1, 0) + -> 0\n",
      "(0, 1) + -> 0\n",
      "(1, 1) + -> 1\n"
     ]
    }
   ],
   "source": [
    "for xs in [(0,0),(1,0),(0,1),(1,1)]: \n",
    "    y = fun1_AND(xs[0], xs[1])\n",
    "    print(f\"{xs} + -> {y}\")"
   ]
  },
  {
   "cell_type": "code",
   "execution_count": 2,
   "id": "14d0af14",
   "metadata": {},
   "outputs": [],
   "source": [
    "a =[(0,0),(1,0),(0,1),(1,1)]"
   ]
  },
  {
   "cell_type": "code",
   "execution_count": 3,
   "id": "da3775a9",
   "metadata": {},
   "outputs": [
    {
     "data": {
      "text/plain": [
       "(0, 0)"
      ]
     },
     "execution_count": 3,
     "metadata": {},
     "output_type": "execute_result"
    }
   ],
   "source": [
    "a[0]"
   ]
  },
  {
   "cell_type": "code",
   "execution_count": 4,
   "id": "a56740d4",
   "metadata": {},
   "outputs": [
    {
     "data": {
      "text/plain": [
       "((0, 0), (1, 0))"
      ]
     },
     "execution_count": 4,
     "metadata": {},
     "output_type": "execute_result"
    }
   ],
   "source": [
    "a[0],a[1]"
   ]
  },
  {
   "cell_type": "code",
   "execution_count": null,
   "id": "f1dd8214",
   "metadata": {},
   "outputs": [],
   "source": []
  }
 ],
 "metadata": {
  "kernelspec": {
   "display_name": "Python 3 (ipykernel)",
   "language": "python",
   "name": "python3"
  },
  "language_info": {
   "codemirror_mode": {
    "name": "ipython",
    "version": 3
   },
   "file_extension": ".py",
   "mimetype": "text/x-python",
   "name": "python",
   "nbconvert_exporter": "python",
   "pygments_lexer": "ipython3",
   "version": "3.9.7"
  }
 },
 "nbformat": 4,
 "nbformat_minor": 5
}
